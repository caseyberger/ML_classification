{
  "cells": [
    {
      "cell_type": "markdown",
      "metadata": {
        "id": "view-in-github",
        "colab_type": "text"
      },
      "source": [
        "<a href=\"https://colab.research.google.com/github/caseyberger/ML_classification/blob/main/Lab2_clean.ipynb\" target=\"_parent\"><img src=\"https://colab.research.google.com/assets/colab-badge.svg\" alt=\"Open In Colab\"/></a>"
      ]
    },
    {
      "cell_type": "markdown",
      "id": "0e471e44-eca4-423c-8b7c-e4880183826d",
      "metadata": {
        "id": "0e471e44-eca4-423c-8b7c-e4880183826d"
      },
      "source": [
        "# SDS 271 Lab 2: Statistics and Betting\n",
        "\n",
        "This lab will dig a little more deeply into your previous Python experience as we examine two case studies in statistical simulations: the Monty Hall Problem and why the House always wins in gambling."
      ]
    },
    {
      "cell_type": "markdown",
      "id": "c8140cf9-8fa8-40cc-8746-420038f04f1b",
      "metadata": {
        "tags": [],
        "id": "c8140cf9-8fa8-40cc-8746-420038f04f1b"
      },
      "source": [
        "## A simple scenario: flipping a coin"
      ]
    },
    {
      "cell_type": "markdown",
      "id": "a2d39571-d64d-4e1d-820c-29f21c41f733",
      "metadata": {
        "id": "a2d39571-d64d-4e1d-820c-29f21c41f733"
      },
      "source": [
        "What do you expect to happen if you flip a coin?\n",
        "\n",
        "The answer depends on the possible outcomes and their likelihoods. This is the simplest way to express probability. A balanced coin has two unique sides (heads and tails) and each side has an equal likelihood of coming out on top if there is no bias in your toss (okay, so we are making a lot of simplifying assumptions). That means your total likelihood of 1 (or 100%) must be split evenly:\n",
        "\n",
        "P(heads) = 0.5\n",
        "\n",
        "P(tails) = 0.5"
      ]
    },
    {
      "cell_type": "markdown",
      "id": "b90d236e-6344-4f74-ae3a-569229709739",
      "metadata": {
        "id": "b90d236e-6344-4f74-ae3a-569229709739"
      },
      "source": [
        "Each individual coin toss contains an element of randomness. It doesn't matter that you just got heads, you still have an even fifty-fifty chance to get gets again. But if you flip the coin many times, even if you get heads ten times in a row, you should still eventually get enough tails to even out the statistics so that roughly half your tosses come up heads and half come up tails."
      ]
    },
    {
      "cell_type": "markdown",
      "id": "54503a6e-f708-46f8-b449-8dee31dfa327",
      "metadata": {
        "tags": [],
        "id": "54503a6e-f708-46f8-b449-8dee31dfa327"
      },
      "source": [
        "### Python random"
      ]
    },
    {
      "cell_type": "markdown",
      "id": "ee66ab5a-b4ee-4bd6-b968-13d46ac812d2",
      "metadata": {
        "id": "ee66ab5a-b4ee-4bd6-b968-13d46ac812d2"
      },
      "source": [
        "Python has a module that allows you to generate pseudo-random numbers. The world of random number generators is wide, but we'll keep it simple for this class."
      ]
    },
    {
      "cell_type": "markdown",
      "id": "96e75196-7c57-4a7e-9e81-096185098e05",
      "metadata": {
        "tags": [],
        "id": "96e75196-7c57-4a7e-9e81-096185098e05"
      },
      "source": [
        "### Importing modules"
      ]
    },
    {
      "cell_type": "markdown",
      "id": "ea90e919-0ba6-40b2-bfcb-bcef2ab95c47",
      "metadata": {
        "id": "ea90e919-0ba6-40b2-bfcb-bcef2ab95c47"
      },
      "source": [
        "Sometimes we will need to use tools that aren't in base Python. To do this, we will import other packages (or \"modules\") that contain what we need. To import a module, you have to tell Jupyter to import the module, and then you can (optionally) tell the notebook how you'd like to call on this module so you don't have to write out its whole name every time. For example, we will use the Numerical Python package called \"numpy\" often in this class. It's standard to refer to numpy as \"np\" so we would import it like this:\n",
        "\n",
        "```\n",
        "import numpy as np\n",
        "```\n",
        "\n",
        "The \"import numpy\" instruction tells it to import the module known officially as numpy and the added \"as np\" instruction tells it that when you refer to np later, you mean numpy."
      ]
    },
    {
      "cell_type": "markdown",
      "id": "549d4e63-8702-4af5-b54f-386a0e55991a",
      "metadata": {
        "id": "549d4e63-8702-4af5-b54f-386a0e55991a"
      },
      "source": [
        "<div class=\"alert alert-info\"> Exercise 1:\n",
        "\n",
        "Import the python random module with nickname \"rd\"\n",
        "</div>"
      ]
    },
    {
      "cell_type": "markdown",
      "id": "38e1234d-914a-471e-a259-8de2f9c8317b",
      "metadata": {
        "id": "38e1234d-914a-471e-a259-8de2f9c8317b"
      },
      "source": [
        "Now that you've imported the module, you can use it. But remember you have to call it using the nickname you gave it. So if I wanted to generate a random number between 0 and 1, I would use the random() function.\n",
        "\n",
        "```\n",
        "rd.random()\n",
        "\n",
        "> 0.42361251090879926\n",
        "```"
      ]
    },
    {
      "cell_type": "markdown",
      "id": "a4263865-d058-4181-820e-9f238547ae20",
      "metadata": {
        "id": "a4263865-d058-4181-820e-9f238547ae20"
      },
      "source": [
        "You can learn more about the module you just imported <a href=\"https://docs.python.org/3/library/random.html\"> here</a>, including lots of other functions it contains that may be helpful in the upcoming activities."
      ]
    },
    {
      "cell_type": "markdown",
      "id": "4049ae15-4c8b-4764-8934-03339739e7c8",
      "metadata": {
        "id": "4049ae15-4c8b-4764-8934-03339739e7c8"
      },
      "source": [
        "<div class=\"alert alert-info\"> Exercise 2:\n",
        "    \n",
        "Investigate the documentation for the Python random module and do the following:\n",
        "<ui>\n",
        "    <li> Generate a random integer between 1 and 6 (inclusive) </li>\n",
        "    <li> Pick randomly from a list of \"heads\" and \"tails\" </li>\n",
        "</ui>\n",
        "    \n",
        "Make sure you repeat this enough times to be sure that it's doing what you want it to (hint: write a for loop to repeat this process)\n",
        "</div>"
      ]
    },
    {
      "cell_type": "markdown",
      "id": "592e3a65-74e7-4103-9827-f5b6b756c55c",
      "metadata": {
        "id": "592e3a65-74e7-4103-9827-f5b6b756c55c"
      },
      "source": [
        "### Putting it all together"
      ]
    },
    {
      "cell_type": "markdown",
      "id": "edd8279f-b307-4efc-b4b6-7d29f1ccfe76",
      "metadata": {
        "id": "edd8279f-b307-4efc-b4b6-7d29f1ccfe76"
      },
      "source": [
        "<div class=\"alert alert-info\"> Exercise 3:\n",
        "    \n",
        "Write a simple function in Python that simulates flipping a coin. It should not take any arguments and it should return the outcome \"heads\" or \"tails\".\n",
        "</div>"
      ]
    },
    {
      "cell_type": "markdown",
      "id": "756d6fd2-0b8f-406d-b063-350419bb0d74",
      "metadata": {
        "id": "756d6fd2-0b8f-406d-b063-350419bb0d74"
      },
      "source": [
        "What is the probability of getting heads or tails? We have prior knowledge that tells us the answer here -- it's 50% for heads and 50% for tails. But how would we determine this experimentally? We can flip a coin many times and calculate what percentage of the time it came up with each option."
      ]
    },
    {
      "cell_type": "markdown",
      "id": "b3d65e0d-6248-41fb-b401-9ca4221323a7",
      "metadata": {
        "id": "b3d65e0d-6248-41fb-b401-9ca4221323a7"
      },
      "source": [
        "<div class=\"alert alert-info\"> Exercise 4:\n",
        "    \n",
        "Write a simple function in Python that performs a coin flip some number of times and calculates the outcome. It should take as an argument the number of times you want to flip the coin, it should use your already-written coin-flip function, and it should return a dictionary with \"heads\" and \"tails\" as they keys and the fraction (decimal, not percent) of the times that that result occured.\n",
        "    \n",
        "Test your function with 20 coin flips. Repeat this a few times, checking the results each time. What do you notice?\n",
        "</div>"
      ]
    },
    {
      "cell_type": "markdown",
      "id": "641d053d-5847-467c-9b9b-94a1e8b20594",
      "metadata": {
        "tags": [],
        "id": "641d053d-5847-467c-9b9b-94a1e8b20594"
      },
      "source": [
        "## Monte Carlo methods"
      ]
    },
    {
      "cell_type": "markdown",
      "id": "6aecdb0f-6501-48cc-b38a-85575eee1bca",
      "metadata": {
        "id": "6aecdb0f-6501-48cc-b38a-85575eee1bca"
      },
      "source": [
        "Monte Carlo simulations take advantage of the law of large numbers and probabilities to simulate likely outcomes. It works by repeating small-scale experiments many times and averaging the results of those experiments.\n",
        "\n",
        "So if you flipped a coin twenty times, you might get H/T = 0.4/0.6\n",
        "\n",
        "If you did it again, you might get H/T = 0.75/0.25\n",
        "\n",
        "If you did it a third time, maybe you'd get H/T = 0.55/0.45\n",
        "\n",
        "Each of these experiments doesn't get you the full picture, but repeated many times, you can get a statistical estimate for the likely results of the experiment."
      ]
    },
    {
      "cell_type": "markdown",
      "id": "0bbb6aef-c320-4ec0-8cb3-8c8aa47d0adf",
      "metadata": {
        "id": "0bbb6aef-c320-4ec0-8cb3-8c8aa47d0adf"
      },
      "source": [
        "<div class=\"alert alert-info\"> Exercise 5:\n",
        "    \n",
        "Repeat your experiment of flipping a coin 20 times and save the results. Do this until you have 1000 sets of results saved as a nested dictionary.\n",
        "</div>"
      ]
    },
    {
      "cell_type": "markdown",
      "id": "266fcd64-e8c8-4e82-a7c9-8cfff6ba61d7",
      "metadata": {
        "id": "266fcd64-e8c8-4e82-a7c9-8cfff6ba61d7"
      },
      "source": [
        "### Basic visualization with matplotlib"
      ]
    },
    {
      "cell_type": "markdown",
      "id": "ce4843fd-f679-406a-b5f3-3eefcb942d65",
      "metadata": {
        "id": "ce4843fd-f679-406a-b5f3-3eefcb942d65"
      },
      "source": [
        "We're going to add a new package to our repertoire... <a href = \"https://matplotlib.org/\"> matplotlib </a>.\n",
        "\n",
        "There's a lot to learn with matplotlib, but we will start with simple plotting: we just want the pyplot sub-package for matplotlib. Generally, this is imported with the nickname \"plt\""
      ]
    },
    {
      "cell_type": "markdown",
      "id": "1e59b2db-0127-4ea9-91ba-41313f04959b",
      "metadata": {
        "id": "1e59b2db-0127-4ea9-91ba-41313f04959b"
      },
      "source": [
        "<div class=\"alert alert-info\"> Exercise 6:\n",
        "    \n",
        "Import matplotlib.pyplot with the nickname \"plt\"\n",
        "</div>"
      ]
    },
    {
      "cell_type": "markdown",
      "id": "e4e03b97-8bb6-4d4b-83c5-e90e8421bae4",
      "metadata": {
        "id": "e4e03b97-8bb6-4d4b-83c5-e90e8421bae4"
      },
      "source": [
        "We can use matplotlib to visualize the results of our 100 experiments."
      ]
    },
    {
      "cell_type": "markdown",
      "id": "bd4a9355-7754-436b-8ee3-2de40b622b72",
      "metadata": {
        "id": "bd4a9355-7754-436b-8ee3-2de40b622b72"
      },
      "source": [
        "<div class=\"alert alert-info\"> Exercise 7:\n",
        "    \n",
        "Take your results dictionary and -- however is easiest for you -- turn it into two lists: one that stores the results that are heads and one that stores the results that are tails.\n",
        "\n",
        "Then use the plt.hist(x) function to make two histograms -- one for heads and one for tails.\n",
        "    \n",
        "Finally, adjust the number of bins in your histogram by adding \"bins = \" after the data inside your histogram. For example:\n",
        "    \n",
        "    plt.hist(heads_results, bins = 10)\n",
        "</div>"
      ]
    },
    {
      "cell_type": "markdown",
      "id": "5215d2fa-469b-472c-92a6-7d20d04a161a",
      "metadata": {
        "id": "5215d2fa-469b-472c-92a6-7d20d04a161a"
      },
      "source": [
        "<div class=\"alert alert-warning\">\n",
        "    Hint: if you want to keep python from printing out information about your data and the plot, use plt.show() after your plot commands -- it cleans up the output.\n",
        "</div>"
      ]
    },
    {
      "cell_type": "markdown",
      "id": "7413789c-6c05-4e05-b223-1b233ac4153c",
      "metadata": {
        "id": "7413789c-6c05-4e05-b223-1b233ac4153c"
      },
      "source": [
        "### Performing simple statistics with numpy"
      ]
    },
    {
      "cell_type": "markdown",
      "id": "fdacda23-eadc-46ab-87de-21fec006e101",
      "metadata": {
        "id": "fdacda23-eadc-46ab-87de-21fec006e101"
      },
      "source": [
        "Visualizing the results can be useful, but we also want to know what this means numerically. What should you tell someone to expect if they plan to flip a coin twenty times? What is the likely range of outcomes they could experience? We can see from the plots that the most likely outcome is somewhere around 50/50, but that ratios of up to 30/70 are still fairly common. Almost never will the outcome of 20 coin flips be all heads or all tails. So let's quantify this.\n",
        "\n",
        "We're going to use the package I mentioned earlier -- <a href = \"https://numpy.org/\" > Numpy</a> -- to do this."
      ]
    },
    {
      "cell_type": "markdown",
      "id": "fd196038-367b-4fb3-90ee-0d7d90e47eb1",
      "metadata": {
        "id": "fd196038-367b-4fb3-90ee-0d7d90e47eb1"
      },
      "source": [
        "<div class=\"alert alert-info\"> Exercise 8:\n",
        "    \n",
        "Import numpy with the nickname \"np\"\n",
        "</div>"
      ]
    },
    {
      "cell_type": "markdown",
      "id": "5a139b89-e583-4e5b-a7f0-4acc7f0cf09c",
      "metadata": {
        "id": "5a139b89-e583-4e5b-a7f0-4acc7f0cf09c"
      },
      "source": [
        "The base \"unit\" of numpy is the numpy array. This is similar to a list in Python, but it's much faster to use for calculations. Numpy uses vectorization to speed up all its internal functions.\n",
        "\n",
        "You can convert a list to an array by using\n",
        "```\n",
        "np.array(list_name)\n",
        "```\n",
        "Once you have a numpy array, you can do a lot with it. We're going to use <a href = \"https://numpy.org/doc/stable/reference/generated/numpy.mean.html\"> np.mean() </a>, <a href = \"https://numpy.org/doc/stable/reference/generated/numpy.std.html\"> np.std() </a>, <a href = \"https://numpy.org/doc/stable/reference/generated/numpy.sqrt.html\" > np.sqrt() </a>, <a href = \"https://numpy.org/doc/stable/reference/generated/numpy.arange.html\"> np.arange() </a>, and <a href = \"https://numpy.org/doc/stable/reference/generated/numpy.cumsum.html\"> np.cumsum() </a> today."
      ]
    },
    {
      "cell_type": "markdown",
      "id": "948852b8-1865-4949-bca3-147135d00ca9",
      "metadata": {
        "id": "948852b8-1865-4949-bca3-147135d00ca9"
      },
      "source": [
        "<div class=\"alert alert-info\"> Exercise 9:\n",
        "    \n",
        "Convert your two lists (heads results and tails results) to numpy arrays and calculate the mean and standard deviation of those results.\n",
        "</div>"
      ]
    },
    {
      "cell_type": "markdown",
      "id": "5f1a1951-31ac-4344-808d-ad84a4354b6a",
      "metadata": {
        "id": "5f1a1951-31ac-4344-808d-ad84a4354b6a"
      },
      "source": [
        "Let's add this information to the plot we already made. We made a histogram of the results of the heads experiments (stored in a numpy array called \"heads_results\") like this:\n",
        "```\n",
        "plt.hist(heads_results, bins = 10)\n",
        "plt.show()\n",
        "```\n",
        "\n",
        "If I want to add the mean as a vertical line, I can add a line of code after the hist() function but before plt.show():\n",
        "\n",
        "```\n",
        "plt.hist(heads_results, bins = 10)\n",
        "plt.axvline(x = heads_avg, color = 'b', label = 'mean result for heads')\n",
        "plt.show()\n",
        "```\n",
        "This creates a vertical line at some position x = heads_avg, which is the variable I used to store the mean value of the array we histogrammed. I've set the color to blue and given it a label.\n",
        "\n",
        "If I want to add information about the standard error, I can use the axvspan() function:\n",
        "\n",
        "```\n",
        "plt.hist(heads_results, color = 'gray',bins = 9)\n",
        "plt.axvline(x = heads_avg, color = 'b', label = 'mean result for heads')\n",
        "xmin = heads_avg - heads_sdev\n",
        "xmax = heads_avg + heads_sdev\n",
        "plt.axvspan(xmin,xmax, color='b', alpha=0.25)\n",
        "plt.show()\n",
        "```\n",
        "This fills the area on the plot between the x-values xmin and xmax, which I've calculated by finding the low end of our range (average minus error) and the high end of our range (average plus error). I picked the same color (blue) and set alpha (the opacity of the fill) to 0.25."
      ]
    },
    {
      "cell_type": "code",
      "execution_count": null,
      "id": "1ce77100-ee1f-4ea8-9ded-d2bbc2763624",
      "metadata": {
        "id": "1ce77100-ee1f-4ea8-9ded-d2bbc2763624",
        "outputId": "dcc629ef-6ffa-48aa-cef2-bf478f5e2862"
      },
      "outputs": [
        {
          "data": {
            "image/png": "[encoded data removed]",
            "text/plain": [
              "<Figure size 432x288 with 1 Axes>"
            ]
          },
          "metadata": {
            "needs_background": "light"
          },
          "output_type": "display_data"
        }
      ],
      "source": [
        "plt.hist(heads_results, color = 'gray',bins = 9)\n",
        "plt.axvline(x = heads_avg, color = 'b', label = 'mean result for heads')\n",
        "xmin = heads_avg - heads_sdev\n",
        "xmax = heads_avg + heads_sdev\n",
        "plt.axvspan(xmin,xmax, color='b', alpha=0.25)\n",
        "plt.show()"
      ]
    },
    {
      "cell_type": "markdown",
      "id": "50dfc0fb-69af-4e30-8530-06d5deba83ee",
      "metadata": {
        "id": "50dfc0fb-69af-4e30-8530-06d5deba83ee"
      },
      "source": [
        "<div class=\"alert alert-info\"> Exercise 10:\n",
        "    \n",
        "Make a plot like we did above, but for the results for tails, not heads. Use red as the color, and make the fill more transparent.\n",
        "</div>"
      ]
    },
    {
      "cell_type": "markdown",
      "id": "f0cc895b-6347-4087-a772-4788ad440f76",
      "metadata": {
        "id": "f0cc895b-6347-4087-a772-4788ad440f76"
      },
      "source": [
        "The standard deviation tells us how much we might expect any given experiment to deviate from the average. But if we wanted to give an answer to how often a coin landed on heads, with error, we would use the standard error, not the standard deviation.\n",
        "\n",
        "$\\sigma = \\frac{1}{\\sqrt{N}}\\text{SD}$\n",
        "\n",
        "Where $\\sigma$ is the standard error, $N$ is the number of times we repeated our experiment, and SD is the standard deviation."
      ]
    },
    {
      "cell_type": "markdown",
      "id": "61e55c75-5d62-4e46-8cbd-f74f48898e05",
      "metadata": {
        "id": "61e55c75-5d62-4e46-8cbd-f74f48898e05"
      },
      "source": [
        "<div class=\"alert alert-info\"> Exercise 11:\n",
        "\n",
        "Find the fraction of times a flipped coin will land on heads, with the standard error. Repeat for tails.\n",
        "    \n",
        "Hint: you can use len() to determine the number of elements in a numpy array, just like you can with a Python list.\n",
        "</div>"
      ]
    },
    {
      "cell_type": "markdown",
      "id": "d32849d8-efb0-4871-bb81-3fd0d18e4bca",
      "metadata": {
        "id": "d32849d8-efb0-4871-bb81-3fd0d18e4bca"
      },
      "source": [
        "Let's take a look now at how the Monte Carlo method (the repeated experiments) gets us from something with a relatively wide distribution to something with very high accuracy (hint: the more you do, the better it gets)"
      ]
    },
    {
      "cell_type": "code",
      "execution_count": null,
      "id": "ffe440c8-9e1f-4048-8cdb-9f4e7623d23d",
      "metadata": {
        "id": "ffe440c8-9e1f-4048-8cdb-9f4e7623d23d",
        "outputId": "7918b6cc-e501-4d9d-d1a1-d9eeef3f149d"
      },
      "outputs": [
        {
          "data": {
            "image/png": "[encoded data removed]",
            "text/plain": [
              "<Figure size 432x288 with 1 Axes>"
            ]
          },
          "metadata": {
            "needs_background": "light"
          },
          "output_type": "display_data"
        }
      ],
      "source": [
        "plt.plot(np.cumsum(heads_results)/np.arange(1,len(heads_results)+1,1), color = \"gray\")\n",
        "plt.hlines(heads_avg,xmin = 0,xmax =len(heads_results),color = \"b\")\n",
        "plt.show()"
      ]
    },
    {
      "cell_type": "markdown",
      "id": "18521fc8-8c3e-41b9-b881-5e9aeb2e0772",
      "metadata": {
        "id": "18521fc8-8c3e-41b9-b881-5e9aeb2e0772"
      },
      "source": [
        "All I've done here is plot the cumulative average of the results of our experiments for \"heads.\" I did this using the built-in cumulative sum function and dividing that array by an array that shows the number of experiments completed up to that point (1, then 2, then 3, all the way up to the final number of 1000).\n",
        "\n",
        "We can see a lot of initial variation in our results, but eventually the average levels out to something very consistent.\n",
        "\n",
        "This is the power of the Monte Carlo simulation -- the larger the number of experiments, the better the results."
      ]
    },
    {
      "cell_type": "markdown",
      "id": "9a567dbf-9620-41ca-84d3-0da61548933e",
      "metadata": {
        "id": "9a567dbf-9620-41ca-84d3-0da61548933e"
      },
      "source": [
        "<div class=\"alert alert-info\"> Exercise 12:\n",
        "    \n",
        "Repeat the process above to make a plot that shows the cumulative average for the results for tails, along with the final average value. Use red to indicate the average value for tails.\n",
        "</div>"
      ]
    },
    {
      "cell_type": "markdown",
      "id": "b9b559c3-0d32-4af6-a9dd-764893a2fe1a",
      "metadata": {
        "id": "b9b559c3-0d32-4af6-a9dd-764893a2fe1a"
      },
      "source": [
        "<div class=\"alert alert-success\">\n",
        "  Stop here for a minute. Check-in with <a href = \"https://app.sli.do/event/hbQevqDLVfydG7mz4opbrU/embed/polls/73e95464-742c-4121-b7cf-7e404ba31901\"> slido</a> and then wait. Work on something else, help your neighbor, etc. We will be returning to this lab shortly.\n",
        "</div>"
      ]
    },
    {
      "cell_type": "markdown",
      "id": "b24120f0-36d7-416e-bbb3-bc465d50f44b",
      "metadata": {
        "tags": [],
        "id": "b24120f0-36d7-416e-bbb3-bc465d50f44b"
      },
      "source": [
        "## The Monty Hall Problem"
      ]
    },
    {
      "cell_type": "markdown",
      "id": "3d1a0128-c6da-49df-a6b7-50e16992234e",
      "metadata": {
        "id": "3d1a0128-c6da-49df-a6b7-50e16992234e"
      },
      "source": [
        "Let's look at a famous riddle that involves statistics and answer it using Monte Carlo methods.\n",
        "\n",
        "Suppose you are on a game show, and you have the choice of picking one of three doors: Behind one door is a car; behind the other doors, goats. You pick a door, let’s say door 1, and the host, who knows what’s behind the doors, opens another door, say door 3, which has a goat. The host then asks you: do you want to stick with your choice or choose another door?"
      ]
    },
    {
      "cell_type": "markdown",
      "id": "7b4dc3db-a7ab-44fb-83d3-47f18d73129f",
      "metadata": {
        "id": "7b4dc3db-a7ab-44fb-83d3-47f18d73129f"
      },
      "source": [
        "Let's start by setting up our problem. We have three doors, two of which have goats behind them and one of which has a car behind it. We can represent that as a list.\n",
        "\n",
        "We then initialize some lists to track what happens if we stay and what happens if we change our minds."
      ]
    },
    {
      "cell_type": "code",
      "execution_count": null,
      "id": "136a4ede-720e-4d39-baf3-c73b843dde73",
      "metadata": {
        "id": "136a4ede-720e-4d39-baf3-c73b843dde73"
      },
      "outputs": [],
      "source": [
        "doors = [\"car\",\"goat\",\"goat\"]\n",
        "results_stay = []\n",
        "results_change = []"
      ]
    },
    {
      "cell_type": "markdown",
      "id": "135f32b2-f1f9-4b21-aa37-55d6a160953c",
      "metadata": {
        "id": "135f32b2-f1f9-4b21-aa37-55d6a160953c"
      },
      "source": [
        "We then write a simple function that takes our doors, makes a random selection, and then returns the results in the following way: if our first choice happens to be the door with the car behind it, we win if we stay! So our \"stay\" results are \"car\" and our \"change\" results are goat. If the first choice happens to have a goat behind it, then staying gives us a goat, while changing gives us a car.\n",
        "\n",
        "Note that it's important to keep our results straight. We could write a function that looks like this:\n",
        "```\n",
        "def MontyHall(doors):    \n",
        "    rd.shuffle(doors)\n",
        "    first_door = rd.choice(doors)\n",
        "    if first_door == \"car\":\n",
        "        return \"car\", \"goat\"\n",
        "    else:\n",
        "        return \"goat\", \"car\"\n",
        "```\n",
        "but then we would have to make sure that we assigned the output in the right order, i.e.\n",
        "```\n",
        "results_stay.append(MontyHall(doors)[0])\n",
        "results_change.append(MontyHall(doors)[1])\n",
        "```\n",
        "It's easier to keep track of your results by modifying the lists within the function."
      ]
    },
    {
      "cell_type": "code",
      "execution_count": null,
      "id": "41598502-ade0-4b74-baa0-07c02037a7ce",
      "metadata": {
        "id": "41598502-ade0-4b74-baa0-07c02037a7ce"
      },
      "outputs": [],
      "source": [
        "def MontyHall(doors, results_stay, results_change):\n",
        "    rd.shuffle(doors)\n",
        "    first_door = rd.choice(doors)\n",
        "    if first_door == \"car\":\n",
        "        results_stay.append(\"car\")\n",
        "        results_change.append(\"goat\")\n",
        "    else:\n",
        "        results_stay.append(\"goat\")\n",
        "        results_change.append(\"car\")"
      ]
    },
    {
      "cell_type": "markdown",
      "id": "61d0f90e-82e8-454c-b0b8-622698fdc462",
      "metadata": {
        "id": "61d0f90e-82e8-454c-b0b8-622698fdc462"
      },
      "source": [
        "<div class=\"alert alert-info\"> Exercise 13:\n",
        "    \n",
        "Test this function. Does it do what you expect? Do you understand the output?\n",
        "</div>"
      ]
    },
    {
      "cell_type": "markdown",
      "id": "7ca77a64-d8ca-4102-846b-31c623e96c8d",
      "metadata": {
        "id": "7ca77a64-d8ca-4102-846b-31c623e96c8d"
      },
      "source": [
        "<div class=\"alert alert-success\">\n",
        "  Stop here for a minute. Check-in with <a href = \"https://app.sli.do/event/hbQevqDLVfydG7mz4opbrU/embed/polls/2ac758d9-e6ed-4239-8272-8f96b82cd2e5\"> slido</a> and then wait. Work on something else, help your neighbor, etc. We will be returning to this lab shortly.\n",
        "</div><div class=\"alert alert-info\"> Exercise 14:\n",
        "    \n",
        "Create a function that performs a Monte Carlo simulation for this scenario. It should use the Monty Hall function we wrote above, and you can assume one \"choice\" is one experiment.\n",
        "    \n",
        "Your function should take as an argument the number of Monte Carlo iterations you want to do. It should return a dictionary with two keys: \"stay\" and \"change\" whose values are a numpy array that tracks how many times you have won by staying with your original door for \"stay\" or by changing to the other door for \"change\".\n",
        "    \n",
        "Hint: you may want to modify the MontyHall function we wrote above to make the results numerical, for example, 1 for a car and 0 for a goat.\n",
        "\n",
        "Run this function for 10, 100, and 1000 iterations and plot the results for each, similarly to how we plotted the heads/tails results. Show us the cumulative average of wins for \"stay\" and \"change\" each, but put them both on the same plot (you don't need to plot the overall average for each, just the cumulative average)\n",
        "</div>\n"
      ]
    },
    {
      "cell_type": "markdown",
      "id": "9e385acf-2e9f-448c-be9b-16da5231efbb",
      "metadata": {
        "id": "9e385acf-2e9f-448c-be9b-16da5231efbb"
      },
      "source": [
        "<div class=\"alert alert-success\">\n",
        "  Stop here for a minute. Check-in with <a href = \"https://app.sli.do/event/hbQevqDLVfydG7mz4opbrU/embed/polls/2ac758d9-e6ed-4239-8272-8f96b82cd2e5\"> slido</a> and then wait. Work on something else, help your neighbor, etc. We will be returning to this lab shortly.\n",
        "</div>"
      ]
    },
    {
      "cell_type": "markdown",
      "id": "15bf1cb0-ecc6-4958-b7fa-6af7f6b20ca7",
      "metadata": {
        "id": "15bf1cb0-ecc6-4958-b7fa-6af7f6b20ca7"
      },
      "source": [
        "## Why the House Always Wins"
      ]
    },
    {
      "cell_type": "markdown",
      "id": "d92e92f7-8c8f-456d-a217-52ee77d00fbd",
      "metadata": {
        "id": "d92e92f7-8c8f-456d-a217-52ee77d00fbd"
      },
      "source": [
        "Lest you start to think your insider knowledge of statistics is going to give you the upper hand at the casino, let's talk about how to use Monte Carlo methods to demonstrate that the house always (on average) wins."
      ]
    },
    {
      "cell_type": "markdown",
      "id": "91d2cb95-5cae-4d45-90a8-fa037a6acb79",
      "metadata": {
        "id": "91d2cb95-5cae-4d45-90a8-fa037a6acb79"
      },
      "source": [
        "### The scenario"
      ]
    },
    {
      "cell_type": "markdown",
      "id": "c350f5da-4023-49a6-8309-1b4e4c08854d",
      "metadata": {
        "id": "c350f5da-4023-49a6-8309-1b4e4c08854d"
      },
      "source": [
        "Consider an imaginary game in which our player, rolls an imaginary dice to get an outcome of 1 to 100. If the player rolls anything from 1–51, the house wins, but if the number rolled is from 52–100, the player wins.\n",
        "\n",
        "The house edge displays the advantage the casino has in winning the bet. It’s the casino’s average profit from a player’s bet.\n",
        "\n",
        "Let’s suppose our player bets 1 dollar on this game.\n",
        "\n",
        "$P(player\\ wins) = 49/100,\\ P(casino\\ wins)= 51/100$\n",
        "\n",
        "$E(player\\ profit)= 1*(49/100)-1*(51/100) = -0.02 = -2\\%$\n",
        "\n",
        "Therefore, the house edge in our imaginary game is 2%.\n",
        "\n",
        "(This isn't just because of our fictional scenario -- you can see some house edges <a href = \"https://wizardofodds.com/gambling/house-edge/\"> here </a> to see how our game compares. We are actually being quite generous to our fictional player)"
      ]
    },
    {
      "cell_type": "markdown",
      "id": "fff63470-1db1-44e5-b2e0-348683d93cf0",
      "metadata": {
        "id": "fff63470-1db1-44e5-b2e0-348683d93cf0"
      },
      "source": [
        "## The simulation"
      ]
    },
    {
      "cell_type": "markdown",
      "id": "ca791d39-d316-447b-a9c8-b51207ad9bd6",
      "metadata": {
        "id": "ca791d39-d316-447b-a9c8-b51207ad9bd6"
      },
      "source": [
        "We need a dice simulator which throws a value from 1–100 with uniform probability distribution."
      ]
    },
    {
      "cell_type": "markdown",
      "id": "1c0ce590-14ce-4506-a6a6-21579de184d2",
      "metadata": {
        "id": "1c0ce590-14ce-4506-a6a6-21579de184d2"
      },
      "source": [
        "<div class=\"alert alert-info\"> Exercise 15:\n",
        "    \n",
        "Create a function to simulate the dice throw above and return the boolean operator True if the player wins and False if the casino wins.\n",
        "</div>"
      ]
    },
    {
      "cell_type": "markdown",
      "id": "59f29dc7-3ade-456e-8ddc-ac934ee1e1a8",
      "metadata": {
        "id": "59f29dc7-3ade-456e-8ddc-ac934ee1e1a8"
      },
      "source": [
        "Now that we've simulated the roll, we need to simulate the betting process. This is a little more complicated, but we can use the equation for expected profit above to help us out. We should consider three things:\n",
        "\n",
        "i. Starting funds : The money the player is starting with\n",
        "\n",
        "ii. Wager Amount : The amount the player bets in each game\n",
        "\n",
        "iii. Total plays : The number of times the player plays the game (This value is changed for creating different scenarios)\n",
        "    "
      ]
    },
    {
      "cell_type": "markdown",
      "id": "87d6ce8f-ab7b-4378-8d71-1e268d9afdd8",
      "metadata": {
        "id": "87d6ce8f-ab7b-4378-8d71-1e268d9afdd8"
      },
      "source": [
        "<div class=\"alert alert-info\"> Exercise 16:\n",
        "\n",
        "Create a function that simulates (multiple) bets. It should take as input the starting funds, the wager amount (for the sake of simplicity, let's say the player bets the same amount on each play), and the number of plays.\n",
        "    \n",
        "This function should track the amount of money the player has after each play, from start to end. Let's assume that number can become negative (i.e. they can rack up a debt to the casino). It should return an array with those amounts.\n",
        "    \n",
        "Don't forget to test that function -- make sure it's doing what you want.\n",
        "\n",
        "</div>"
      ]
    },
    {
      "cell_type": "markdown",
      "id": "617f743e-1842-41eb-917d-1fb7fe8315f2",
      "metadata": {
        "id": "617f743e-1842-41eb-917d-1fb7fe8315f2"
      },
      "source": [
        "Now, remember we are looking for average behavior. Hopefully you noticed in testing your function that sometimes the player emerges with more money than they started with! That's the allure of gambling! But hopefully you also noticed that most often, the player ends at a loss.\n",
        "\n",
        "If we want to know how this looks to the house, what we need to do is simulate many many scenarios and see what the average result is (and how large the error is on that result). That's just a Monte Carlo simulation (aptly named)."
      ]
    },
    {
      "cell_type": "markdown",
      "id": "478fd709-7c2a-4825-be0b-5496eb654e08",
      "metadata": {
        "id": "478fd709-7c2a-4825-be0b-5496eb654e08"
      },
      "source": [
        "<div class=\"alert alert-info\"> Exercise 17:\n",
        "    \n",
        "Write a function that does a Monte Carlo simulation of playing the game with a fixed starting amount, wager amount, and number of plays.\n",
        "\n",
        "Remember to run the simulation many times (let's go with 1,000).\n",
        "    \n",
        "Plot the outcomes -- it can help to show the individual scenarios alongside the average (in a different color, and/or with an alpha less than 1 so we can see how all the varied outcomes contribute to the overall average. You can include this plot as part of your MC function or you can write it separately.\n",
        "    \n",
        "</div>"
      ]
    },
    {
      "cell_type": "markdown",
      "id": "c7fbdfff-c710-407f-9fb8-55e7fea71908",
      "metadata": {
        "id": "c7fbdfff-c710-407f-9fb8-55e7fea71908"
      },
      "source": [
        "### Testing different scenarios"
      ]
    },
    {
      "cell_type": "markdown",
      "id": "cba6ec5a-3f8d-49dd-bab5-01f646f356e9",
      "metadata": {
        "id": "cba6ec5a-3f8d-49dd-bab5-01f646f356e9"
      },
      "source": [
        "<div class=\"alert alert-info\"> Exercise 18:\n",
        "    \n",
        "Try your function out on the following scenarios:\n",
        "\n",
        "Scenario 1:\n",
        "* Starting funds: 10000\n",
        "* Wager amount: 100\n",
        "* Number of bets : 5\n",
        "\n",
        "Scenario 2:\n",
        "* Starting funds: 10000\n",
        "* Wager amount: 100\n",
        "* Number of bets : 10\n",
        "\n",
        "Scenario 3:\n",
        "* Starting funds: 10000\n",
        "* Wager amount: 100\n",
        "* Number of bets : 100\n",
        "\n",
        "Scenario 4:\n",
        "* Starting funds: 10000\n",
        "* Wager amount: 100\n",
        "* Number of bets : 10000\n",
        "\n",
        "\n",
        "Plot the individual outcomes and average result from each simulation. What do you notice?\n",
        "</div>"
      ]
    },
    {
      "cell_type": "markdown",
      "id": "6c3bcbb2-b1ef-46ea-a0dd-32feb7b2c565",
      "metadata": {
        "id": "6c3bcbb2-b1ef-46ea-a0dd-32feb7b2c565"
      },
      "source": [
        "![the-good-place-pobodys-nerfect.gif](attachment:e8777c6e-c065-4b84-953f-338f5a4027c2.gif)"
      ]
    },
    {
      "cell_type": "markdown",
      "id": "cf671e52-8e60-4b3e-8088-a129ce47ec80",
      "metadata": {
        "id": "cf671e52-8e60-4b3e-8088-a129ce47ec80"
      },
      "source": [
        "# Post-Lab: Production and Reflection"
      ]
    },
    {
      "cell_type": "markdown",
      "id": "eb3946e2-8dda-4476-a200-413364e29f5c",
      "metadata": {
        "id": "eb3946e2-8dda-4476-a200-413364e29f5c"
      },
      "source": [
        "When you are done with this lab, make sure you save and export it as an HTML. This HTML file is what you will turn in through Moodle. In addition, don't forget to fill out the [post-lab reflection form](https://forms.gle/jF6zkS7BgWp2JNFP8). You must turn in both an HTML that demonstrates you have completed the lab and a self-reflection to get credit."
      ]
    }
  ],
  "metadata": {
    "kernelspec": {
      "display_name": "Python 3 (ipykernel)",
      "language": "python",
      "name": "python3"
    },
    "language_info": {
      "codemirror_mode": {
        "name": "ipython",
        "version": 3
      },
      "file_extension": ".py",
      "mimetype": "text/x-python",
      "name": "python",
      "nbconvert_exporter": "python",
      "pygments_lexer": "ipython3",
      "version": "3.8.10"
    },
    "colab": {
      "provenance": [],
      "include_colab_link": true
    }
  },
  "nbformat": 4,
  "nbformat_minor": 5
}